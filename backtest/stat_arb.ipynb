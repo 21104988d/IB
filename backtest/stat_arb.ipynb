{
 "cells": [
  {
   "cell_type": "code",
   "execution_count": 19,
   "metadata": {},
   "outputs": [
    {
     "name": "stdout",
     "output_type": "stream",
     "text": [
      "^C\n",
      "Note: you may need to restart the kernel to use updated packages.\n"
     ]
    },
    {
     "name": "stdout",
     "output_type": "stream",
     "text": [
      "Collecting statsmodels\n",
      "  Downloading statsmodels-0.14.4-cp312-cp312-win_amd64.whl.metadata (9.5 kB)\n",
      "Requirement already satisfied: numpy<3,>=1.22.3 in c:\\users\\isaac\\appdata\\local\\programs\\python\\python312\\lib\\site-packages (from statsmodels) (2.2.2)\n",
      "Requirement already satisfied: scipy!=1.9.2,>=1.8 in c:\\users\\isaac\\appdata\\local\\programs\\python\\python312\\lib\\site-packages (from statsmodels) (1.15.2)\n",
      "Requirement already satisfied: pandas!=2.1.0,>=1.4 in c:\\users\\isaac\\appdata\\local\\programs\\python\\python312\\lib\\site-packages (from statsmodels) (2.2.3)\n",
      "Collecting patsy>=0.5.6 (from statsmodels)\n",
      "  Downloading patsy-1.0.1-py2.py3-none-any.whl.metadata (3.3 kB)\n",
      "Requirement already satisfied: packaging>=21.3 in c:\\users\\isaac\\appdata\\roaming\\python\\python312\\site-packages (from statsmodels) (24.2)\n",
      "Requirement already satisfied: python-dateutil>=2.8.2 in c:\\users\\isaac\\appdata\\roaming\\python\\python312\\site-packages (from pandas!=2.1.0,>=1.4->statsmodels) (2.9.0.post0)\n",
      "Requirement already satisfied: pytz>=2020.1 in c:\\users\\isaac\\appdata\\local\\programs\\python\\python312\\lib\\site-packages (from pandas!=2.1.0,>=1.4->statsmodels) (2025.1)\n",
      "Requirement already satisfied: tzdata>=2022.7 in c:\\users\\isaac\\appdata\\local\\programs\\python\\python312\\lib\\site-packages (from pandas!=2.1.0,>=1.4->statsmodels) (2025.1)\n",
      "Requirement already satisfied: six>=1.5 in c:\\users\\isaac\\appdata\\roaming\\python\\python312\\site-packages (from python-dateutil>=2.8.2->pandas!=2.1.0,>=1.4->statsmodels) (1.17.0)\n",
      "Downloading statsmodels-0.14.4-cp312-cp312-win_amd64.whl (9.8 MB)\n",
      "   ---------------------------------------- 0.0/9.8 MB ? eta -:--:--\n",
      "   -- ------------------------------------- 0.5/9.8 MB 2.8 MB/s eta 0:00:04\n",
      "   ---- ----------------------------------- 1.0/9.8 MB 2.8 MB/s eta 0:00:04\n",
      "   ------ --------------------------------- 1.6/9.8 MB 2.8 MB/s eta 0:00:03\n",
      "   -------- ------------------------------- 2.1/9.8 MB 2.7 MB/s eta 0:00:03\n",
      "   ---------- ----------------------------- 2.6/9.8 MB 2.6 MB/s eta 0:00:03\n",
      "   ------------ --------------------------- 3.1/9.8 MB 2.7 MB/s eta 0:00:03\n",
      "   -------------- ------------------------- 3.7/9.8 MB 2.7 MB/s eta 0:00:03\n",
      "   ----------------- ---------------------- 4.2/9.8 MB 2.6 MB/s eta 0:00:03\n",
      "   ------------------- -------------------- 4.7/9.8 MB 2.6 MB/s eta 0:00:02\n",
      "   --------------------- ------------------ 5.2/9.8 MB 2.6 MB/s eta 0:00:02\n",
      "   ----------------------- ---------------- 5.8/9.8 MB 2.6 MB/s eta 0:00:02\n",
      "   ------------------------- -------------- 6.3/9.8 MB 2.6 MB/s eta 0:00:02\n",
      "   --------------------------- ------------ 6.8/9.8 MB 2.6 MB/s eta 0:00:02\n",
      "   ----------------------------- ---------- 7.3/9.8 MB 2.5 MB/s eta 0:00:01\n",
      "   -------------------------------- ------- 7.9/9.8 MB 2.5 MB/s eta 0:00:01\n",
      "   ---------------------------------- ----- 8.4/9.8 MB 2.6 MB/s eta 0:00:01\n",
      "   ------------------------------------ --- 8.9/9.8 MB 2.6 MB/s eta 0:00:01\n",
      "   -------------------------------------- - 9.4/9.8 MB 2.6 MB/s eta 0:00:01\n",
      "   ---------------------------------------- 9.8/9.8 MB 2.6 MB/s eta 0:00:00\n",
      "Downloading patsy-1.0.1-py2.py3-none-any.whl (232 kB)\n",
      "Installing collected packages: patsy, statsmodels\n",
      "Successfully installed patsy-1.0.1 statsmodels-0.14.4\n"
     ]
    }
   ],
   "source": [
    "%pip install statsmodels"
   ]
  },
  {
   "cell_type": "code",
   "execution_count": 12,
   "metadata": {},
   "outputs": [],
   "source": [
    "import pandas as pd\n",
    "from binance.client import Client\n",
    "import matplotlib.pyplot as plt\n",
    "import numpy as np\n",
    "from sklearn.linear_model import LinearRegression\n",
    "\n"
   ]
  },
  {
   "cell_type": "code",
   "execution_count": 9,
   "metadata": {},
   "outputs": [
    {
     "data": {
      "text/html": [
       "<div>\n",
       "<style scoped>\n",
       "    .dataframe tbody tr th:only-of-type {\n",
       "        vertical-align: middle;\n",
       "    }\n",
       "\n",
       "    .dataframe tbody tr th {\n",
       "        vertical-align: top;\n",
       "    }\n",
       "\n",
       "    .dataframe thead th {\n",
       "        text-align: right;\n",
       "    }\n",
       "</style>\n",
       "<table border=\"1\" class=\"dataframe\">\n",
       "  <thead>\n",
       "    <tr style=\"text-align: right;\">\n",
       "      <th></th>\n",
       "      <th>open</th>\n",
       "      <th>close</th>\n",
       "      <th>volume</th>\n",
       "    </tr>\n",
       "    <tr>\n",
       "      <th>timestamp</th>\n",
       "      <th></th>\n",
       "      <th></th>\n",
       "      <th></th>\n",
       "    </tr>\n",
       "  </thead>\n",
       "  <tbody>\n",
       "    <tr>\n",
       "      <th>2017-08-17</th>\n",
       "      <td>4261.48</td>\n",
       "      <td>4285.08</td>\n",
       "      <td>795.150377</td>\n",
       "    </tr>\n",
       "    <tr>\n",
       "      <th>2017-08-18</th>\n",
       "      <td>4285.08</td>\n",
       "      <td>4108.37</td>\n",
       "      <td>1199.888264</td>\n",
       "    </tr>\n",
       "    <tr>\n",
       "      <th>2017-08-19</th>\n",
       "      <td>4108.37</td>\n",
       "      <td>4139.98</td>\n",
       "      <td>381.309763</td>\n",
       "    </tr>\n",
       "    <tr>\n",
       "      <th>2017-08-20</th>\n",
       "      <td>4120.98</td>\n",
       "      <td>4086.29</td>\n",
       "      <td>467.083022</td>\n",
       "    </tr>\n",
       "    <tr>\n",
       "      <th>2017-08-21</th>\n",
       "      <td>4069.13</td>\n",
       "      <td>4016.00</td>\n",
       "      <td>691.743060</td>\n",
       "    </tr>\n",
       "  </tbody>\n",
       "</table>\n",
       "</div>"
      ],
      "text/plain": [
       "               open    close       volume\n",
       "timestamp                                \n",
       "2017-08-17  4261.48  4285.08   795.150377\n",
       "2017-08-18  4285.08  4108.37  1199.888264\n",
       "2017-08-19  4108.37  4139.98   381.309763\n",
       "2017-08-20  4120.98  4086.29   467.083022\n",
       "2017-08-21  4069.13  4016.00   691.743060"
      ]
     },
     "execution_count": 9,
     "metadata": {},
     "output_type": "execute_result"
    }
   ],
   "source": [
    "def get_data(api_key = 'your_api_key', api_secret = 'your_api_secret', symbol = 'BTCUSDT', interval = '1d', start_date = '1 Jan, 2010', end_date = '28 Feb, 2025'):\n",
    "    client = Client(api_key, api_secret)\n",
    "    klines = client.get_historical_klines(symbol, interval, start_date, end_date)\n",
    "    df = pd.DataFrame(klines, columns=['timestamp', 'open', 'high', 'low', 'close', 'volume', 'close_time', 'quote_asset_volume', 'number_of_trades', 'taker_buy_base_asset_volume', 'taker_buy_quote_asset_volume', 'ignore'])\n",
    "    df['timestamp'] = pd.to_datetime(df['timestamp'], unit='ms')\n",
    "    df.set_index('timestamp', inplace=True)\n",
    "    for col in df.columns:\n",
    "        df[col] = pd.to_numeric(df[col])\n",
    "    return df[['open', 'close', 'volume']]\n",
    "\n",
    "btc = get_data()\n",
    "for col in btc.columns:\n",
    "    btc[col] = pd.to_numeric(btc[col])\n",
    "btc.head()"
   ]
  },
  {
   "cell_type": "code",
   "execution_count": 17,
   "metadata": {},
   "outputs": [
    {
     "data": {
      "image/png": "[encoded data removed]",
      "text/plain": [
       "<Figure size 640x480 with 1 Axes>"
      ]
     },
     "metadata": {},
     "output_type": "display_data"
    }
   ],
   "source": [
    "eth = get_data(symbol = 'ETHUSDT')\n",
    "eth.head()\n",
    "\n",
    "stat_arb_data = pd.merge(btc['close'], eth['close'], left_index=True, right_index=True, suffixes=('_btc', '_eth'))\n",
    "# Perform linear regression\n",
    "model = LinearRegression()\n",
    "model.fit(stat_arb_data[['close_eth']], stat_arb_data['close_btc'])\n",
    "\n",
    "pred_btc = model.predict(stat_arb_data[['close_eth']])\n",
    "\n",
    "# Plot the difference between actual BTC close prices and predicted BTC close prices\n",
    "plt.plot(stat_arb_data.index, stat_arb_data['close_btc'] - pred_btc, label='Difference (Actual - Predicted)')\n",
    "plt.legend()\n",
    "plt.show()"
   ]
  },
  {
   "cell_type": "code",
   "execution_count": null,
   "metadata": {},
   "outputs": [
    {
     "ename": "ModuleNotFoundError",
     "evalue": "No module named 'statsmodels'",
     "output_type": "error",
     "traceback": [
      "\u001b[1;31m---------------------------------------------------------------------------\u001b[0m",
      "\u001b[1;31mModuleNotFoundError\u001b[0m                       Traceback (most recent call last)",
      "Cell \u001b[1;32mIn[18], line 1\u001b[0m\n\u001b[1;32m----> 1\u001b[0m \u001b[38;5;28;01mfrom\u001b[39;00m\u001b[38;5;250m \u001b[39m\u001b[38;5;21;01mstatsmodels\u001b[39;00m\u001b[38;5;21;01m.\u001b[39;00m\u001b[38;5;21;01mtsa\u001b[39;00m\u001b[38;5;21;01m.\u001b[39;00m\u001b[38;5;21;01mstattools\u001b[39;00m\u001b[38;5;250m \u001b[39m\u001b[38;5;28;01mimport\u001b[39;00m adfuller\n\u001b[0;32m      3\u001b[0m \u001b[38;5;66;03m# Calculate the difference between actual BTC close prices and predicted BTC close prices\u001b[39;00m\n\u001b[0;32m      4\u001b[0m diff \u001b[38;5;241m=\u001b[39m stat_arb_data[\u001b[38;5;124m'\u001b[39m\u001b[38;5;124mclose_btc\u001b[39m\u001b[38;5;124m'\u001b[39m] \u001b[38;5;241m-\u001b[39m pred_btc\n",
      "\u001b[1;31mModuleNotFoundError\u001b[0m: No module named 'statsmodels'"
     ]
    }
   ],
   "source": [
    "\n",
    "\n",
    "from statsmodels.tsa.stattools import adfuller\n",
    "\n",
    "# Calculate the difference between actual BTC close prices and predicted BTC close prices\n",
    "diff = stat_arb_data['close_btc'] - pred_btc\n",
    "\n",
    "# Perform ADF test\n",
    "result = adfuller(diff)\n",
    "\n",
    "# Print the result\n",
    "print('ADF Statistic:', result[0])\n",
    "print('p-value:', result[1])\n",
    "for key, value in result[4].items():\n",
    "    print('Critical Value (%s): %.3f' % (key, value))"
   ]
  }
 ],
 "metadata": {
  "kernelspec": {
   "display_name": "Python 3",
   "language": "python",
   "name": "python3"
  },
  "language_info": {
   "codemirror_mode": {
    "name": "ipython",
    "version": 3
   },
   "file_extension": ".py",
   "mimetype": "text/x-python",
   "name": "python",
   "nbconvert_exporter": "python",
   "pygments_lexer": "ipython3",
   "version": "3.12.4"
  }
 },
 "nbformat": 4,
 "nbformat_minor": 2
}
