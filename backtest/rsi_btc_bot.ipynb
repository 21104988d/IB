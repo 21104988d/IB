{
 "cells": [
  {
   "cell_type": "code",
   "execution_count": 1,
   "metadata": {},
   "outputs": [
    {
     "name": "stdout",
     "output_type": "stream",
     "text": [
      "Requirement already satisfied: python-binance in c:\\users\\isaac\\appdata\\local\\programs\\python\\python312\\lib\\site-packages (1.0.28)\n",
      "Requirement already satisfied: requests in c:\\users\\isaac\\appdata\\local\\programs\\python\\python312\\lib\\site-packages (from python-binance) (2.32.3)\n",
      "Requirement already satisfied: six in c:\\users\\isaac\\appdata\\roaming\\python\\python312\\site-packages (from python-binance) (1.17.0)\n",
      "Requirement already satisfied: dateparser in c:\\users\\isaac\\appdata\\local\\programs\\python\\python312\\lib\\site-packages (from python-binance) (1.2.1)\n",
      "Requirement already satisfied: aiohttp in c:\\users\\isaac\\appdata\\local\\programs\\python\\python312\\lib\\site-packages (from python-binance) (3.10.11)\n",
      "Requirement already satisfied: websockets in c:\\users\\isaac\\appdata\\local\\programs\\python\\python312\\lib\\site-packages (from python-binance) (15.0)\n",
      "Requirement already satisfied: pycryptodome in c:\\users\\isaac\\appdata\\local\\programs\\python\\python312\\lib\\site-packages (from python-binance) (3.21.0)\n",
      "Requirement already satisfied: aiohappyeyeballs>=2.3.0 in c:\\users\\isaac\\appdata\\local\\programs\\python\\python312\\lib\\site-packages (from aiohttp->python-binance) (2.4.6)\n",
      "Requirement already satisfied: aiosignal>=1.1.2 in c:\\users\\isaac\\appdata\\local\\programs\\python\\python312\\lib\\site-packages (from aiohttp->python-binance) (1.3.2)\n",
      "Requirement already satisfied: attrs>=17.3.0 in c:\\users\\isaac\\appdata\\local\\programs\\python\\python312\\lib\\site-packages (from aiohttp->python-binance) (25.1.0)\n",
      "Requirement already satisfied: frozenlist>=1.1.1 in c:\\users\\isaac\\appdata\\local\\programs\\python\\python312\\lib\\site-packages (from aiohttp->python-binance) (1.5.0)\n",
      "Requirement already satisfied: multidict<7.0,>=4.5 in c:\\users\\isaac\\appdata\\local\\programs\\python\\python312\\lib\\site-packages (from aiohttp->python-binance) (6.1.0)\n",
      "Requirement already satisfied: yarl<2.0,>=1.12.0 in c:\\users\\isaac\\appdata\\local\\programs\\python\\python312\\lib\\site-packages (from aiohttp->python-binance) (1.18.3)\n",
      "Requirement already satisfied: python-dateutil>=2.7.0 in c:\\users\\isaac\\appdata\\roaming\\python\\python312\\site-packages (from dateparser->python-binance) (2.9.0.post0)\n",
      "Requirement already satisfied: pytz>=2024.2 in c:\\users\\isaac\\appdata\\local\\programs\\python\\python312\\lib\\site-packages (from dateparser->python-binance) (2025.1)\n",
      "Requirement already satisfied: regex!=2019.02.19,!=2021.8.27,>=2015.06.24 in c:\\users\\isaac\\appdata\\local\\programs\\python\\python312\\lib\\site-packages (from dateparser->python-binance) (2024.11.6)\n",
      "Requirement already satisfied: tzlocal>=0.2 in c:\\users\\isaac\\appdata\\local\\programs\\python\\python312\\lib\\site-packages (from dateparser->python-binance) (5.3)\n",
      "Requirement already satisfied: charset-normalizer<4,>=2 in c:\\users\\isaac\\appdata\\local\\programs\\python\\python312\\lib\\site-packages (from requests->python-binance) (3.4.1)\n",
      "Requirement already satisfied: idna<4,>=2.5 in c:\\users\\isaac\\appdata\\local\\programs\\python\\python312\\lib\\site-packages (from requests->python-binance) (3.10)\n",
      "Requirement already satisfied: urllib3<3,>=1.21.1 in c:\\users\\isaac\\appdata\\local\\programs\\python\\python312\\lib\\site-packages (from requests->python-binance) (2.3.0)\n",
      "Requirement already satisfied: certifi>=2017.4.17 in c:\\users\\isaac\\appdata\\local\\programs\\python\\python312\\lib\\site-packages (from requests->python-binance) (2025.1.31)\n",
      "Requirement already satisfied: tzdata in c:\\users\\isaac\\appdata\\local\\programs\\python\\python312\\lib\\site-packages (from tzlocal>=0.2->dateparser->python-binance) (2025.1)\n",
      "Requirement already satisfied: propcache>=0.2.0 in c:\\users\\isaac\\appdata\\local\\programs\\python\\python312\\lib\\site-packages (from yarl<2.0,>=1.12.0->aiohttp->python-binance) (0.3.0)\n",
      "Note: you may need to restart the kernel to use updated packages.\n"
     ]
    }
   ],
   "source": [
    "%pip install python-binance"
   ]
  },
  {
   "cell_type": "code",
   "execution_count": 2,
   "metadata": {},
   "outputs": [],
   "source": [
    "import pandas as pd\n",
    "from binance.client import Client\n",
    "import numpy as np\n",
    "import matplotlib.pyplot as plt\n"
   ]
  },
  {
   "cell_type": "code",
   "execution_count": null,
   "metadata": {},
   "outputs": [
    {
     "ename": "NameError",
     "evalue": "name 'client' is not defined",
     "output_type": "error",
     "traceback": [
      "\u001b[1;31m---------------------------------------------------------------------------\u001b[0m",
      "\u001b[1;31mNameError\u001b[0m                                 Traceback (most recent call last)",
      "Cell \u001b[1;32mIn[3], line 2\u001b[0m\n\u001b[0;32m      1\u001b[0m \u001b[38;5;66;03m# Get historical data for BTCUSDT with 4-hour interval\u001b[39;00m\n\u001b[1;32m----> 2\u001b[0m klines \u001b[38;5;241m=\u001b[39m \u001b[43mclient\u001b[49m\u001b[38;5;241m.\u001b[39mget_historical_klines(\u001b[38;5;124m\"\u001b[39m\u001b[38;5;124mBTCUSDT\u001b[39m\u001b[38;5;124m\"\u001b[39m, Client\u001b[38;5;241m.\u001b[39mKLINE_INTERVAL_1DAY, \u001b[38;5;124m\"\u001b[39m\u001b[38;5;124m1 Jan, 2010\u001b[39m\u001b[38;5;124m\"\u001b[39m, \u001b[38;5;124m\"\u001b[39m\u001b[38;5;124m28 Feb, 2025\u001b[39m\u001b[38;5;124m\"\u001b[39m)\n\u001b[0;32m      4\u001b[0m \u001b[38;5;66;03m# Create a DataFrame\u001b[39;00m\n\u001b[0;32m      5\u001b[0m df \u001b[38;5;241m=\u001b[39m pd\u001b[38;5;241m.\u001b[39mDataFrame(klines, columns\u001b[38;5;241m=\u001b[39m[\u001b[38;5;124m'\u001b[39m\u001b[38;5;124mtimestamp\u001b[39m\u001b[38;5;124m'\u001b[39m, \u001b[38;5;124m'\u001b[39m\u001b[38;5;124mopen\u001b[39m\u001b[38;5;124m'\u001b[39m, \u001b[38;5;124m'\u001b[39m\u001b[38;5;124mhigh\u001b[39m\u001b[38;5;124m'\u001b[39m, \u001b[38;5;124m'\u001b[39m\u001b[38;5;124mlow\u001b[39m\u001b[38;5;124m'\u001b[39m, \u001b[38;5;124m'\u001b[39m\u001b[38;5;124mclose\u001b[39m\u001b[38;5;124m'\u001b[39m, \u001b[38;5;124m'\u001b[39m\u001b[38;5;124mvolume\u001b[39m\u001b[38;5;124m'\u001b[39m, \u001b[38;5;124m'\u001b[39m\u001b[38;5;124mclose_time\u001b[39m\u001b[38;5;124m'\u001b[39m, \u001b[38;5;124m'\u001b[39m\u001b[38;5;124mquote_asset_volume\u001b[39m\u001b[38;5;124m'\u001b[39m, \u001b[38;5;124m'\u001b[39m\u001b[38;5;124mnumber_of_trades\u001b[39m\u001b[38;5;124m'\u001b[39m, \u001b[38;5;124m'\u001b[39m\u001b[38;5;124mtaker_buy_base_asset_volume\u001b[39m\u001b[38;5;124m'\u001b[39m, \u001b[38;5;124m'\u001b[39m\u001b[38;5;124mtaker_buy_quote_asset_volume\u001b[39m\u001b[38;5;124m'\u001b[39m, \u001b[38;5;124m'\u001b[39m\u001b[38;5;124mignore\u001b[39m\u001b[38;5;124m'\u001b[39m])\n",
      "\u001b[1;31mNameError\u001b[0m: name 'client' is not defined"
     ]
    }
   ],
   "source": [
    "# Initialize the client\n",
    "client = Client(api_key='your_api_key', api_secret='your_api_secret')\n",
    "\n",
    "# Get historical data for BTCUSDT with 4-hour interval\n",
    "klines = client.get_historical_klines(\"BTCUSDT\", Client.KLINE_INTERVAL_1DAY, \"1 Jan, 2010\", \"28 Feb, 2025\")\n",
    "\n",
    "# Create a DataFrame\n",
    "df = pd.DataFrame(klines, columns=['timestamp', 'open', 'high', 'low', 'close', 'volume', 'close_time', 'quote_asset_volume', 'number_of_trades', 'taker_buy_base_asset_volume', 'taker_buy_quote_asset_volume', 'ignore'])\n",
    "\n",
    "# Convert timestamp to datetime\n",
    "df['timestamp'] = pd.to_datetime(df['timestamp'], unit='ms')\n",
    "\n",
    "# Set timestamp as index\n",
    "df.set_index('timestamp', inplace=True)\n",
    "\n",
    "btc = df[['close']].copy()\n",
    "print(btc.head())\n"
   ]
  },
  {
   "cell_type": "code",
   "execution_count": null,
   "metadata": {},
   "outputs": [],
   "source": [
    "def calculate_rsi(data, window):\n",
    "    delta = data.diff()\n",
    "    gain = (delta.where(delta > 0, 0)).rolling(window=window).mean()\n",
    "    loss = (-delta.where(delta < 0, 0)).rolling(window=window).mean()\n",
    "    rs = gain / loss\n",
    "    rsi = 100 - (100 / (1 + rs))\n",
    "    return rsi\n",
    "\n",
    "# Calculate RSI for the btc DataFrame\n",
    "btc['close'] = btc['close'].astype(float)\n",
    "btc['rsi'] = calculate_rsi(btc['close'], window=14)\n",
    "print(btc.head(20))"
   ]
  },
  {
   "cell_type": "code",
   "execution_count": null,
   "metadata": {},
   "outputs": [],
   "source": [
    "def portfolio(rsi_up = 50, rsi_down = 50, hand = 10):\n",
    "    btc['signal'] = np.where(btc['rsi'] < rsi_down, 1, np.where(btc['rsi'] > rsi_up, -1, 0))\n",
    "\n",
    "    btc['position'] = hand / btc['close'] * btc['signal']\n",
    "\n",
    "    btc['total_position'] = 0\n",
    "    for i in range(1, len(btc)):\n",
    "        btc['total_position'].iloc[i] = btc['position'].iloc[i] + btc['total_position'].iloc[i-1]\n",
    "\n",
    "    btc['cost'] = np.where(btc['signal'] == -1, -btc['close'] * btc['position'], np.where(btc['signal'] == 1, -btc['close'] * btc['position'], 0))\n",
    "\n",
    "    btc['total_cost'] = 0.0\n",
    "\n",
    "    for i in range(1, len(btc)):\n",
    "        btc['total_cost'].iloc[i] = btc['cost'].iloc[i] + btc['total_cost'].iloc[i-1]\n",
    "    \n",
    "    btc['pnl'] = btc['total_cost'] + (btc['total_position'] * btc['close'])\n",
    "    btc.to_csv('btc.csv')\n",
    "    \n",
    "    return btc[['total_cost', 'pnl']]\n",
    "\n",
    "portfolio(rsi_up = 10, rsi_down = 100 - 10, hand = 10).iloc[-1]"
   ]
  },
  {
   "cell_type": "code",
   "execution_count": null,
   "metadata": {},
   "outputs": [],
   "source": [
    "result = pd.DataFrame()\n",
    "for _ in range(0, 110, 10):\n",
    "    result = pd.concat([result, portfolio(rsi_up = 100 - _, rsi_down = _, hand = 10).iloc[-1].to_frame().T])\n",
    "\n",
    "result.reset_index(drop=True, inplace=True)\n",
    "result['total_cost'] = -result['total_cost']\n",
    "result = result.drop(result.index[0])\n",
    "result['return'] = result['pnl'] / result['total_cost']\n",
    "\n",
    "result"
   ]
  },
  {
   "cell_type": "code",
   "execution_count": null,
   "metadata": {},
   "outputs": [],
   "source": [
    "plt.plot(result['pnl'], label='pnl')\n",
    "plt.xlabel('rsi')\n",
    "plt.ylabel('pnl')\n",
    "plt.title('pnl vs rsi')\n",
    "plt.show()\n",
    "plt.plot(result['total_cost'], label='total_cost')\n",
    "plt.xlabel('rsi')\n",
    "plt.ylabel('total_cost')\n",
    "plt.title('total_cost vs rsi')\n",
    "plt.show()\n",
    "plt.plot(result['return'], label='return')\n",
    "plt.title('return vs rsi')\n",
    "plt.xlabel('rsi')\n",
    "plt.ylabel('return')\n",
    "plt.show()"
   ]
  },
  {
   "cell_type": "code",
   "execution_count": null,
   "metadata": {},
   "outputs": [],
   "source": [
    "best_rsi_up = result['return'].idxmax() * 10\n",
    "best_rsi_up"
   ]
  }
 ],
 "metadata": {
  "kernelspec": {
   "display_name": "Python 3",
   "language": "python",
   "name": "python3"
  },
  "language_info": {
   "codemirror_mode": {
    "name": "ipython",
    "version": 3
   },
   "file_extension": ".py",
   "mimetype": "text/x-python",
   "name": "python",
   "nbconvert_exporter": "python",
   "pygments_lexer": "ipython3",
   "version": "3.12.4"
  }
 },
 "nbformat": 4,
 "nbformat_minor": 2
}
