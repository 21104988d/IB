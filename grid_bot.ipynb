{
 "cells": [
  {
   "cell_type": "code",
   "execution_count": 2,
   "metadata": {},
   "outputs": [],
   "source": [
    "import ibapi\n",
    "from ibapi.client import EClient\n",
    "from ibapi.wrapper import EWrapper\n",
    "import threading\n",
    "import time"
   ]
  },
  {
   "cell_type": "code",
   "execution_count": 4,
   "metadata": {},
   "outputs": [
    {
     "ename": "NameError",
     "evalue": "name 'GridTradingBot' is not defined",
     "output_type": "error",
     "traceback": [
      "\u001b[1;31m---------------------------------------------------------------------------\u001b[0m",
      "\u001b[1;31mNameError\u001b[0m                                 Traceback (most recent call last)",
      "Cell \u001b[1;32mIn[4], line 6\u001b[0m\n\u001b[0;32m      3\u001b[0m         EWrapper\u001b[38;5;241m.\u001b[39m\u001b[38;5;21m__init__\u001b[39m(\u001b[38;5;28mself\u001b[39m)\n\u001b[0;32m      4\u001b[0m         EClient\u001b[38;5;241m.\u001b[39m\u001b[38;5;21m__init__\u001b[39m(\u001b[38;5;28mself\u001b[39m, wrapper\u001b[38;5;241m=\u001b[39m\u001b[38;5;28mself\u001b[39m)\n\u001b[1;32m----> 6\u001b[0m \u001b[38;5;28;43;01mclass\u001b[39;49;00m\u001b[38;5;250;43m \u001b[39;49m\u001b[38;5;21;43;01mGridTradingBot\u001b[39;49;00m\u001b[43m(\u001b[49m\u001b[43mIBapi\u001b[49m\u001b[43m)\u001b[49m\u001b[43m:\u001b[49m\n\u001b[0;32m      7\u001b[0m \u001b[43m    \u001b[49m\u001b[38;5;28;43;01mdef\u001b[39;49;00m\u001b[38;5;250;43m \u001b[39;49m\u001b[38;5;21;43m__init__\u001b[39;49m\u001b[43m(\u001b[49m\u001b[38;5;28;43mself\u001b[39;49m\u001b[43m,\u001b[49m\u001b[43m \u001b[49m\u001b[43msymbol\u001b[49m\u001b[43m,\u001b[49m\u001b[43m \u001b[49m\u001b[43mgrid_size\u001b[49m\u001b[43m,\u001b[49m\u001b[43m \u001b[49m\u001b[43mquantity\u001b[49m\u001b[43m)\u001b[49m\u001b[43m:\u001b[49m\n\u001b[0;32m      8\u001b[0m \u001b[43m        \u001b[49m\u001b[38;5;28;43msuper\u001b[39;49m\u001b[43m(\u001b[49m\u001b[43m)\u001b[49m\u001b[38;5;241;43m.\u001b[39;49m\u001b[38;5;21;43m__init__\u001b[39;49m\u001b[43m(\u001b[49m\u001b[43m)\u001b[49m\n",
      "Cell \u001b[1;32mIn[4], line 72\u001b[0m, in \u001b[0;36mGridTradingBot\u001b[1;34m()\u001b[0m\n\u001b[0;32m     69\u001b[0m     \u001b[38;5;28mprint\u001b[39m(\u001b[38;5;124mf\u001b[39m\u001b[38;5;124m\"\u001b[39m\u001b[38;5;124mExecDetails. ReqId: \u001b[39m\u001b[38;5;132;01m{\u001b[39;00mreqId\u001b[38;5;132;01m}\u001b[39;00m\u001b[38;5;124m, Symbol: \u001b[39m\u001b[38;5;132;01m{\u001b[39;00mcontract\u001b[38;5;241m.\u001b[39msymbol\u001b[38;5;132;01m}\u001b[39;00m\u001b[38;5;124m, SecType: \u001b[39m\u001b[38;5;132;01m{\u001b[39;00mcontract\u001b[38;5;241m.\u001b[39msecType\u001b[38;5;132;01m}\u001b[39;00m\u001b[38;5;124m, Currency: \u001b[39m\u001b[38;5;132;01m{\u001b[39;00mcontract\u001b[38;5;241m.\u001b[39mcurrency\u001b[38;5;132;01m}\u001b[39;00m\u001b[38;5;124m, ExecId: \u001b[39m\u001b[38;5;132;01m{\u001b[39;00mexecution\u001b[38;5;241m.\u001b[39mexecId\u001b[38;5;132;01m}\u001b[39;00m\u001b[38;5;124m, OrderId: \u001b[39m\u001b[38;5;132;01m{\u001b[39;00mexecution\u001b[38;5;241m.\u001b[39morderId\u001b[38;5;132;01m}\u001b[39;00m\u001b[38;5;124m, Shares: \u001b[39m\u001b[38;5;132;01m{\u001b[39;00mexecution\u001b[38;5;241m.\u001b[39mshares\u001b[38;5;132;01m}\u001b[39;00m\u001b[38;5;124m, LastLiquidity: \u001b[39m\u001b[38;5;132;01m{\u001b[39;00mexecution\u001b[38;5;241m.\u001b[39mlastLiquidity\u001b[38;5;132;01m}\u001b[39;00m\u001b[38;5;124m\"\u001b[39m)\n\u001b[0;32m     71\u001b[0m \u001b[38;5;66;03m# Example usage\u001b[39;00m\n\u001b[1;32m---> 72\u001b[0m bot \u001b[38;5;241m=\u001b[39m \u001b[43mGridTradingBot\u001b[49m(\u001b[38;5;124m\"\u001b[39m\u001b[38;5;124mMBT\u001b[39m\u001b[38;5;124m\"\u001b[39m, \u001b[38;5;241m1\u001b[39m, \u001b[38;5;241m0.5\u001b[39m)\n\u001b[0;32m     73\u001b[0m bot\u001b[38;5;241m.\u001b[39mstart()\n",
      "\u001b[1;31mNameError\u001b[0m: name 'GridTradingBot' is not defined"
     ]
    }
   ],
   "source": [
    "class IBapi(EWrapper, EClient):\n",
    "    def __init__(self):\n",
    "        EWrapper.__init__(self)\n",
    "        EClient.__init__(self, wrapper=self)\n",
    "\n",
    "class GridTradingBot(IBapi):\n",
    "    def __init__(self, symbol, grid_size, quantity):\n",
    "        super().__init__()\n",
    "        self.symbol = symbol\n",
    "        self.grid_size = grid_size\n",
    "        self.quantity = quantity\n",
    "        self.positions = []\n",
    "        self.current_price = None  # Initialize current_price\n",
    "\n",
    "    def start(self):\n",
    "        self.connect(\"127.0.0.1\", 7497, 1)\n",
    "        thread = threading.Thread(target=self.run)\n",
    "        thread.start()\n",
    "        time.sleep(1)  # Sleep interval to allow time for connection to server\n",
    "\n",
    "    def nextValidId(self, orderId: int):\n",
    "        self.nextOrderId = orderId\n",
    "        self.place_initial_orders()\n",
    "\n",
    "    def place_initial_orders(self):\n",
    "        # Place initial buy and sell orders\n",
    "        current_price = self.get_current_price(self.symbol)\n",
    "        if current_price is not None:\n",
    "            buy_price = current_price - self.grid_size\n",
    "            sell_price = current_price + self.grid_size\n",
    "            self.place_order(self.symbol, \"BUY\", self.quantity, buy_price)\n",
    "            self.place_order(self.symbol, \"SELL\", self.quantity, sell_price)\n",
    "\n",
    "    def place_order(self, symbol, action, quantity, price):\n",
    "        order = ibapi.order.Order()\n",
    "        order.action = action\n",
    "        order.totalQuantity = quantity\n",
    "        order.orderType = \"LMT\"\n",
    "        order.lmtPrice = price\n",
    "        self.placeOrder(self.nextOrderId, self.create_contract(symbol), order)\n",
    "        self.nextOrderId += 1\n",
    "\n",
    "    def create_contract(self, symbol):\n",
    "        contract = ibapi.contract.Contract()\n",
    "        contract.symbol = symbol\n",
    "        contract.secType = \"STK\"\n",
    "        contract.exchange = \"SMART\"\n",
    "        contract.currency = \"USD\"\n",
    "        return contract\n",
    "\n",
    "    def get_current_price(self, symbol):\n",
    "        # Implement a method to get the current price of the symbol\n",
    "        # This is a placeholder implementation\n",
    "        # Replace with actual price fetching logic\n",
    "        contract = self.create_contract(symbol)\n",
    "        self.reqMktData(1, contract, \"\", False, False, [])\n",
    "        time.sleep(2)  # Sleep to allow time for price to be fetched\n",
    "        print(f\"Current price for {symbol}: {self.current_price}\")\n",
    "        return self.current_price\n",
    "\n",
    "    def tickPrice(self, reqId, tickType, price, attrib):\n",
    "        if tickType == 4:  # Last price\n",
    "            self.current_price = price\n",
    "\n",
    "    def orderStatus(self, orderId, status, filled, remaining, avgFillPrice, permId, parentId, lastFillPrice, clientId, whyHeld, mktCapPrice):\n",
    "        print(f\"OrderStatus. Id: {orderId}, Status: {status}, Filled: {filled}, Remaining: {remaining}, LastFillPrice: {lastFillPrice}\")\n",
    "\n",
    "    def execDetails(self, reqId, contract, execution):\n",
    "        print(f\"ExecDetails. ReqId: {reqId}, Symbol: {contract.symbol}, SecType: {contract.secType}, Currency: {contract.currency}, ExecId: {execution.execId}, OrderId: {execution.orderId}, Shares: {execution.shares}, LastLiquidity: {execution.lastLiquidity}\")\n",
    "\n",
    "    # Example usage\n",
    "    bot = GridTradingBot(\"MBT\", 1, 0.5)\n",
    "    bot.start()\n"
   ]
  }
 ],
 "metadata": {
  "kernelspec": {
   "display_name": "Python 3",
   "language": "python",
   "name": "python3"
  },
  "language_info": {
   "codemirror_mode": {
    "name": "ipython",
    "version": 3
   },
   "file_extension": ".py",
   "mimetype": "text/x-python",
   "name": "python",
   "nbconvert_exporter": "python",
   "pygments_lexer": "ipython3",
   "version": "3.12.4"
  }
 },
 "nbformat": 4,
 "nbformat_minor": 2
}
