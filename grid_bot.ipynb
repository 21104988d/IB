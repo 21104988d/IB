{
 "cells": [
  {
   "cell_type": "code",
   "execution_count": 5,
   "metadata": {},
   "outputs": [],
   "source": [
    "import ibapi\n",
    "from ibapi.client import EClient\n",
    "from ibapi.wrapper import EWrapper\n",
    "import threading\n",
    "import time"
   ]
  },
  {
   "cell_type": "code",
   "execution_count": null,
   "metadata": {},
   "outputs": [
    {
     "name": "stderr",
     "output_type": "stream",
     "text": [
      "ERROR -1 502 Couldn't connect to TWS. Confirm that \"Enable ActiveX and Socket EClients\" \n",
      "is enabled and connection port is the same as \"Socket Port\" on the \n",
      "TWS \"Edit->Global Configuration...->API->Settings\" menu. Live Trading ports: \n",
      "TWS: 7496; IB Gateway: 4001. Simulated Trading ports for new installations \n",
      "of version 954.1 or newer:  TWS: 7497; IB Gateway: 4002\n"
     ]
    }
   ],
   "source": [
    "class GridTradingBot(IBapi):\n",
    "    def __init__(self, symbol, grid_size, quantity):\n",
    "        super().__init__()\n",
    "        self.symbol = symbol\n",
    "        self.grid_size = grid_size\n",
    "        self.quantity = quantity\n",
    "        self.positions = []\n",
    "\n",
    "    def start(self):\n",
    "        self.connect(\"127.0.0.1\", 7497, 0)\n",
    "        thread = threading.Thread(target=self.run)\n",
    "        thread.start()\n",
    "        time.sleep(1)  # Sleep interval to allow time for connection to server\n",
    "\n",
    "    def nextValidId(self, orderId: int):\n",
    "        self.nextOrderId = orderId\n",
    "        self.place_initial_orders()\n",
    "\n",
    "    def place_initial_orders(self):\n",
    "        # Place initial buy and sell orders\n",
    "        self.place_order(self.symbol, \"BUY\", self.quantity, self.grid_size)\n",
    "        self.place_order(self.symbol, \"SELL\", self.quantity, self.grid_size * 2)\n",
    "\n",
    "    def place_order(self, symbol, action, quantity, price):\n",
    "        order = ibapi.order.Order()\n",
    "        order.action = action\n",
    "        order.totalQuantity = quantity\n",
    "        order.orderType = \"LMT\"\n",
    "        order.lmtPrice = price\n",
    "        self.placeOrder(self.nextOrderId, self.create_contract(symbol), order)\n",
    "        self.nextOrderId += 1\n",
    "\n",
    "    def create_contract(self, symbol):\n",
    "        contract = ibapi.contract.Contract()\n",
    "        contract.symbol = symbol\n",
    "        contract.secType = \"STK\"\n",
    "        contract.exchange = \"SMART\"\n",
    "        contract.currency = \"USD\"\n",
    "        return contract\n",
    "\n",
    "    def orderStatus(self, orderId, status, filled, remaining, avgFillPrice, permId, parentId, lastFillPrice, clientId, whyHeld, mktCapPrice):\n",
    "        print(f\"OrderStatus. Id: {orderId}, Status: {status}, Filled: {filled}, Remaining: {remaining}, LastFillPrice: {lastFillPrice}\")\n",
    "\n",
    "    def execDetails(self, reqId, contract, execution):\n",
    "        print(f\"ExecDetails. ReqId: {reqId}, Symbol: {contract.symbol}, SecType: {contract.secType}, Currency: {contract.currency}, ExecId: {execution.execId}, OrderId: {execution.orderId}, Shares: {execution.shares}, LastLiquidity: {execution.lastLiquidity}\")\n",
    "\n",
    "# Example usage\n",
    "bot = GridTradingBot(\"AAPL\", 1.0, 10)\n",
    "bot.start()\n",
    "\n"
   ]
  }
 ],
 "metadata": {
  "kernelspec": {
   "display_name": "Python 3",
   "language": "python",
   "name": "python3"
  },
  "language_info": {
   "codemirror_mode": {
    "name": "ipython",
    "version": 3
   },
   "file_extension": ".py",
   "mimetype": "text/x-python",
   "name": "python",
   "nbconvert_exporter": "python",
   "pygments_lexer": "ipython3",
   "version": "3.13.0"
  }
 },
 "nbformat": 4,
 "nbformat_minor": 2
}
